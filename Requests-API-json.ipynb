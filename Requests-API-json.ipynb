{
 "cells": [
  {
   "cell_type": "markdown",
   "metadata": {},
   "source": [
    "## API requests & json"
   ]
  },
  {
   "cell_type": "code",
   "execution_count": 1,
   "metadata": {},
   "outputs": [],
   "source": [
    "import requests\n",
    "import json"
   ]
  },
  {
   "cell_type": "code",
   "execution_count": 14,
   "metadata": {},
   "outputs": [
    {
     "name": "stdout",
     "output_type": "stream",
     "text": [
      "<class 'dict'>\n"
     ]
    },
    {
     "data": {
      "text/plain": [
       "{'message': 'success',\n",
       " 'request': {'altitude': 100,\n",
       "  'datetime': 1516023188,\n",
       "  'latitude': 37.78,\n",
       "  'longitude': -122.41,\n",
       "  'passes': 5},\n",
       " 'response': [{'duration': 640, 'risetime': 1516023484},\n",
       "  {'duration': 522, 'risetime': 1516029307},\n",
       "  {'duration': 338, 'risetime': 1516077786},\n",
       "  {'duration': 632, 'risetime': 1516083385},\n",
       "  {'duration': 590, 'risetime': 1516089207}]}"
      ]
     },
     "execution_count": 14,
     "metadata": {},
     "output_type": "execute_result"
    }
   ],
   "source": [
    "parameters = {\"lat\": 37.78, \"lon\": -122.41}\n",
    "response = requests.get(\"http://api.open-notify.org/iss-pass.json\", params = parameters)\n",
    "\n",
    "# Get the response data as a Python object.  Verify that it's a dictionary.\n",
    "json_data = response.json()\n",
    "print(type(json_data))\n",
    "json_data\n"
   ]
  },
  {
   "cell_type": "code",
   "execution_count": 8,
   "metadata": {},
   "outputs": [
    {
     "data": {
      "text/plain": [
       "640"
      ]
     },
     "execution_count": 8,
     "metadata": {},
     "output_type": "execute_result"
    }
   ],
   "source": [
    "json_data['response'][0]['duration']"
   ]
  },
  {
   "cell_type": "code",
   "execution_count": 9,
   "metadata": {},
   "outputs": [
    {
     "data": {
      "text/plain": [
       "'application/json'"
      ]
     },
     "execution_count": 9,
     "metadata": {},
     "output_type": "execute_result"
    }
   ],
   "source": [
    "content_type = response.headers['content-type']\n",
    "content_type"
   ]
  },
  {
   "cell_type": "code",
   "execution_count": 10,
   "metadata": {},
   "outputs": [
    {
     "data": {
      "text/plain": [
       "'application/json'"
      ]
     },
     "execution_count": 10,
     "metadata": {},
     "output_type": "execute_result"
    }
   ],
   "source": [
    "response = requests.get(\"http://api.open-notify.org/astros.json\")\n",
    "response.headers['content-type']"
   ]
  },
  {
   "cell_type": "code",
   "execution_count": 12,
   "metadata": {},
   "outputs": [
    {
     "data": {
      "text/plain": [
       "{'message': 'success',\n",
       " 'number': 6,\n",
       " 'people': [{'craft': 'ISS', 'name': 'Alexander Misurkin'},\n",
       "  {'craft': 'ISS', 'name': 'Mark Vande Hei'},\n",
       "  {'craft': 'ISS', 'name': 'Joe Acaba'},\n",
       "  {'craft': 'ISS', 'name': 'Anton Shkaplerov'},\n",
       "  {'craft': 'ISS', 'name': 'Scott Tingle'},\n",
       "  {'craft': 'ISS', 'name': 'Norishige Kanai'}]}"
      ]
     },
     "execution_count": 12,
     "metadata": {},
     "output_type": "execute_result"
    }
   ],
   "source": [
    "json_data = response.json()\n",
    "json_data"
   ]
  },
  {
   "cell_type": "code",
   "execution_count": 13,
   "metadata": {},
   "outputs": [
    {
     "data": {
      "text/plain": [
       "6"
      ]
     },
     "execution_count": 13,
     "metadata": {},
     "output_type": "execute_result"
    }
   ],
   "source": [
    "json_data['number']"
   ]
  },
  {
   "cell_type": "code",
   "execution_count": null,
   "metadata": {},
   "outputs": [],
   "source": [
    "headers = {\"Authorization\": \"token xxxxxxxxxxxxxx\"}"
   ]
  },
  {
   "cell_type": "code",
   "execution_count": 45,
   "metadata": {},
   "outputs": [
    {
     "data": {
      "text/plain": [
       "{'avatar_url': 'https://avatars3.githubusercontent.com/u/583231?v=4',\n",
       " 'bio': None,\n",
       " 'blog': 'http://www.github.com/blog',\n",
       " 'company': 'GitHub',\n",
       " 'created_at': '2011-01-25T18:44:36Z',\n",
       " 'email': 'octocat@github.com',\n",
       " 'events_url': 'https://api.github.com/users/octocat/events{/privacy}',\n",
       " 'followers': 2068,\n",
       " 'followers_url': 'https://api.github.com/users/octocat/followers',\n",
       " 'following': 5,\n",
       " 'following_url': 'https://api.github.com/users/octocat/following{/other_user}',\n",
       " 'gists_url': 'https://api.github.com/users/octocat/gists{/gist_id}',\n",
       " 'gravatar_id': '',\n",
       " 'hireable': None,\n",
       " 'html_url': 'https://github.com/octocat',\n",
       " 'id': 583231,\n",
       " 'location': 'San Francisco',\n",
       " 'login': 'octocat',\n",
       " 'name': 'The Octocat',\n",
       " 'organizations_url': 'https://api.github.com/users/octocat/orgs',\n",
       " 'public_gists': 8,\n",
       " 'public_repos': 7,\n",
       " 'received_events_url': 'https://api.github.com/users/octocat/received_events',\n",
       " 'repos_url': 'https://api.github.com/users/octocat/repos',\n",
       " 'site_admin': False,\n",
       " 'starred_url': 'https://api.github.com/users/octocat/starred{/owner}{/repo}',\n",
       " 'subscriptions_url': 'https://api.github.com/users/octocat/subscriptions',\n",
       " 'type': 'User',\n",
       " 'updated_at': '2018-01-01T12:31:09Z',\n",
       " 'url': 'https://api.github.com/users/octocat'}"
      ]
     },
     "execution_count": 45,
     "metadata": {},
     "output_type": "execute_result"
    }
   ],
   "source": [
    "params = {\"per_page\": 1, \"page\": 1}\n",
    "response = requests.get(\"https://api.github.com/users/octocat\", headers=headers, params=params)\n",
    "page_user = response.json()\n",
    "page_user"
   ]
  },
  {
   "cell_type": "code",
   "execution_count": 46,
   "metadata": {
    "scrolled": true
   },
   "outputs": [
    {
     "data": {
      "text/plain": [
       "'https://avatars3.githubusercontent.com/u/583231?v=4'"
      ]
     },
     "execution_count": 46,
     "metadata": {},
     "output_type": "execute_result"
    }
   ],
   "source": [
    "avatar = page_user['avatar_url']\n",
    "avatar"
   ]
  },
  {
   "cell_type": "code",
   "execution_count": 47,
   "metadata": {},
   "outputs": [
    {
     "data": {
      "text/html": [
       "<img src=\"https://avatars3.githubusercontent.com/u/583231?v=4\" width=\"100\"/>"
      ],
      "text/plain": [
       "<IPython.core.display.Image object>"
      ]
     },
     "execution_count": 47,
     "metadata": {},
     "output_type": "execute_result"
    }
   ],
   "source": [
    "from IPython.display import Image\n",
    "Image(url=avatar, width=100)"
   ]
  },
  {
   "cell_type": "markdown",
   "metadata": {},
   "source": [
    "<h3 align=\"left\">Or a markdown way</h3> \n",
    "<img src=\"https://avatars3.githubusercontent.com/u/583231\" alt=\"Avatar image\" style=\"width: 100px; float:left;\"/>"
   ]
  },
  {
   "cell_type": "markdown",
   "metadata": {},
   "source": [
    "### Creating repo through API"
   ]
  },
  {
   "cell_type": "code",
   "execution_count": 49,
   "metadata": {},
   "outputs": [
    {
     "data": {
      "text/plain": [
       "201"
      ]
     },
     "execution_count": 49,
     "metadata": {},
     "output_type": "execute_result"
    }
   ],
   "source": [
    "repo = {\"name\": \"test-repo\"}\n",
    "\n",
    "response = requests.post(\"https://api.github.com/user/repos\", json=repo, headers=headers)\n",
    "\n",
    "status = response.status_code\n",
    "status # 201 means it's OK"
   ]
  },
  {
   "cell_type": "markdown",
   "metadata": {},
   "source": [
    "### Updating repo through API"
   ]
  },
  {
   "cell_type": "code",
   "execution_count": 51,
   "metadata": {},
   "outputs": [
    {
     "data": {
      "text/plain": [
       "200"
      ]
     },
     "execution_count": 51,
     "metadata": {},
     "output_type": "execute_result"
    }
   ],
   "source": [
    "payload = {\"description\": \"Test repo 1\", \"name\": \"test-repo\"}\n",
    "\n",
    "response = requests.patch(\"https://api.github.com/repos/t0tem/test-repo\", json=payload, headers=headers)\n",
    "status = response.status_code\n",
    "status # 200 means it's OK"
   ]
  },
  {
   "cell_type": "markdown",
   "metadata": {},
   "source": [
    "### Deleting repo through API"
   ]
  },
  {
   "cell_type": "code",
   "execution_count": 53,
   "metadata": {},
   "outputs": [
    {
     "data": {
      "text/plain": [
       "204"
      ]
     },
     "execution_count": 53,
     "metadata": {},
     "output_type": "execute_result"
    }
   ],
   "source": [
    "response = requests.delete(\"https://api.github.com/repos/t0tem/test-repo\", headers=headers)\n",
    "status = response.status_code\n",
    "status # 204 means it's OK"
   ]
  }
 ],
 "metadata": {
  "kernelspec": {
   "display_name": "Python 3",
   "language": "python",
   "name": "python3"
  },
  "language_info": {
   "codemirror_mode": {
    "name": "ipython",
    "version": 3
   },
   "file_extension": ".py",
   "mimetype": "text/x-python",
   "name": "python",
   "nbconvert_exporter": "python",
   "pygments_lexer": "ipython3",
   "version": "3.6.3"
  }
 },
 "nbformat": 4,
 "nbformat_minor": 2
}
